{
 "cells": [
  {
   "cell_type": "markdown",
   "id": "8a1abefb-41f5-42ef-ad79-e2564b528de8",
   "metadata": {},
   "source": [
    "official getting started guide: https://pandas.pydata.org/docs/getting_started/index.html"
   ]
  }
 ],
 "metadata": {
  "kernelspec": {
   "display_name": "Python 3 (ipykernel)",
   "language": "python",
   "name": "python3"
  },
  "language_info": {
   "codemirror_mode": {
    "name": "ipython",
    "version": 3
   },
   "file_extension": ".py",
   "mimetype": "text/x-python",
   "name": "python",
   "nbconvert_exporter": "python",
   "pygments_lexer": "ipython3",
   "version": "3.11.6"
  }
 },
 "nbformat": 4,
 "nbformat_minor": 5
}
