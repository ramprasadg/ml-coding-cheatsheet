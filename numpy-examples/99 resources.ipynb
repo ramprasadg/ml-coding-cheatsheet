{
 "cells": [
  {
   "cell_type": "markdown",
   "id": "e8ea0ed7-7394-4c33-80da-f47938ff8642",
   "metadata": {},
   "source": [
    "Official Tutorial: https://numpy.org/doc/stable/user/absolute_beginners.html"
   ]
  }
 ],
 "metadata": {
  "kernelspec": {
   "display_name": "Python 3 (ipykernel)",
   "language": "python",
   "name": "python3"
  },
  "language_info": {
   "codemirror_mode": {
    "name": "ipython",
    "version": 3
   },
   "file_extension": ".py",
   "mimetype": "text/x-python",
   "name": "python",
   "nbconvert_exporter": "python",
   "pygments_lexer": "ipython3",
   "version": "3.11.6"
  }
 },
 "nbformat": 4,
 "nbformat_minor": 5
}
