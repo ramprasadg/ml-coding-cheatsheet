{
 "cells": [
  {
   "cell_type": "code",
   "execution_count": null,
   "id": "86579780-7fed-4eb9-b70c-ec37a05f79df",
   "metadata": {},
   "outputs": [],
   "source": [
    "https://matplotlib.org/stable/plot_types/stats/index.html"
   ]
  }
 ],
 "metadata": {
  "kernelspec": {
   "display_name": "Python 3 (ipykernel)",
   "language": "python",
   "name": "python3"
  },
  "language_info": {
   "codemirror_mode": {
    "name": "ipython",
    "version": 3
   },
   "file_extension": ".py",
   "mimetype": "text/x-python",
   "name": "python",
   "nbconvert_exporter": "python",
   "pygments_lexer": "ipython3",
   "version": "3.11.6"
  }
 },
 "nbformat": 4,
 "nbformat_minor": 5
}
